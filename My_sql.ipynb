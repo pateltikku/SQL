{
 "cells": [
  {
   "cell_type": "markdown",
   "id": "f5f542ea-6e3c-4cdb-96c7-9ac6bba83bcd",
   "metadata": {},
   "source": [
    "Q1. What is a database? Differentiate between SQL and NoSQL databases."
   ]
  },
  {
   "cell_type": "markdown",
   "id": "02a9e019-11c5-47b9-90ee-ab046b06e3c7",
   "metadata": {},
   "source": [
    "A database is a structured collection of data, organized in such a way that it allows for storage, retrieval, and manipulation of information.\n",
    "\n",
    "Difference between SQL (Structured Query Language) and NoSQL databases-\n",
    "\n",
    "1. In SQL databases, data is organised in tables ie- rows and columns. However, NoSQL databases contains a wide range of data such as documents, graphs ec cetera.\n",
    "\n",
    "2. SQL databases has a rigid schema, the structure of data (tables, columns, data types etc.) must be pre-defined before inserting the tables. However, NoSQL databases are schema-less having flexible schema.\n",
    "\n",
    "3. SQL databases use SQL as the query language to interact with the data, but NoSQL databases use various query languages.\n",
    "\n",
    "4. SQL databases are traditionally designed for vertical scalability, but NoSQL databases are typically designed for horizontal scalability."
   ]
  },
  {
   "cell_type": "markdown",
   "id": "85b909e9-003c-4bb8-b977-8ef7ae85f31a",
   "metadata": {},
   "source": [
    "Q2. What is DDL? Explain why CREATE, DROP, ALTER, and TRUNCATE are used with an example."
   ]
  },
  {
   "cell_type": "markdown",
   "id": "5995b5b2-c139-407a-b48f-891377dad0e7",
   "metadata": {},
   "source": [
    "DDL stands for Data definition language. DDL statements are used to create, modify and delete database objects such as tables etc.  "
   ]
  },
  {
   "cell_type": "markdown",
   "id": "0afa61d3-d083-429a-8b3b-a5a1653f9195",
   "metadata": {},
   "source": [
    "Create- is used to create new database objects like tables, views, indexes, and more. It defines the structure of the object, including its columns and data types."
   ]
  },
  {
   "cell_type": "markdown",
   "id": "f49c9a70-fc6c-48da-a187-62bf5c559cde",
   "metadata": {},
   "source": [
    "CREATE TABLE test(\n",
    "    student_id INT PRIMARY KEY,\n",
    "    FirstName VARCHAR(50),\n",
    "    LastName VARCHAR(50),\n",
    "    Department VARCHAR(50)\n",
    ");"
   ]
  },
  {
   "cell_type": "markdown",
   "id": "bea8fb97-b9de-4dad-83ea-ba6e672396a1",
   "metadata": {},
   "source": [
    "DROP- DROP statement is used to delete existing database objects like tables, views, indexes, and so on."
   ]
  },
  {
   "cell_type": "raw",
   "id": "d6356bef-2766-4415-bd81-a49040e8addf",
   "metadata": {},
   "source": [
    "DROP TABLE test;"
   ]
  },
  {
   "cell_type": "markdown",
   "id": "b0986374-e2f3-4445-8626-b3efcc78d830",
   "metadata": {},
   "source": [
    "ALTER- is used to modify the structure of an existing database object. It can be used to add, modify, or delete columns, constraints, or other attributes of an object."
   ]
  },
  {
   "cell_type": "raw",
   "id": "bb54153f-90f5-45b8-a8c9-f85e10135636",
   "metadata": {},
   "source": [
    "ALTER TABLE test\n",
    "ADD Email VARCHAR(100);"
   ]
  },
  {
   "cell_type": "markdown",
   "id": "eab96bfa-2997-426f-94b4-520fbc3e425f",
   "metadata": {},
   "source": [
    "TRUNCATE- is used to delete all rows from a table, but it retains the table structure. It is faster and more efficient than the DELETE statement for removing all data from a table."
   ]
  },
  {
   "cell_type": "raw",
   "id": "ccc2e51f-7794-484b-90a0-58d96ee5f916",
   "metadata": {},
   "source": [
    "TRUNCATE TABLE test;"
   ]
  },
  {
   "cell_type": "markdown",
   "id": "dab8e217-d618-473d-86a2-ec3c33ac6d86",
   "metadata": {},
   "source": [
    "Q3. What is DML? Explain INSERT, UPDATE, and DELETE with an example."
   ]
  },
  {
   "cell_type": "markdown",
   "id": "1b67a5db-adee-44d6-89b6-cc27bbbdba06",
   "metadata": {},
   "source": [
    "DML stands for Data Manipulation Language,used for managing data stored in a database. "
   ]
  },
  {
   "cell_type": "markdown",
   "id": "8472a96d-8227-46a1-ab58-a417c3632083",
   "metadata": {},
   "source": [
    "INSERT- is used to add new rows of data into a database table."
   ]
  },
  {
   "cell_type": "raw",
   "id": "70427682-e48d-42ed-8dce-2a16172c1bb9",
   "metadata": {},
   "source": [
    "INSERT INTO students (studentID, FirstName, LastName, Department)\n",
    "VALUES (101, 'a', 'b', 'c');"
   ]
  },
  {
   "cell_type": "markdown",
   "id": "94d6af94-8218-4c2e-90a3-f2001d50defc",
   "metadata": {},
   "source": [
    "UPDATE- is used to modify existing data in a database table."
   ]
  },
  {
   "cell_type": "raw",
   "id": "a730d89b-b6ac-4eb0-960c-ebc6642b8cdc",
   "metadata": {},
   "source": [
    "UPDATE students\n",
    "SET Department = 'cs'\n",
    "WHERE studentID = 101;"
   ]
  },
  {
   "cell_type": "markdown",
   "id": "c3f7ebfb-de42-40e1-b448-767358aa1068",
   "metadata": {},
   "source": [
    "DELETE- is used to remove rows from a database table based on specified conditions."
   ]
  },
  {
   "cell_type": "raw",
   "id": "bf1220dd-1560-4099-a424-4f3360d22cf4",
   "metadata": {},
   "source": [
    "DELETE FROM students\n",
    "WHERE studentID = 101;"
   ]
  },
  {
   "cell_type": "markdown",
   "id": "540ce4c2-cf45-4109-a415-6044d1928c2b",
   "metadata": {},
   "source": [
    "Q4. What is DQL? Explain SELECT with an example."
   ]
  },
  {
   "cell_type": "markdown",
   "id": "a9e31ed8-e5a0-43d1-afde-d9b5081b2e84",
   "metadata": {},
   "source": [
    "DQL stands for Data Query Language, used for querying and retrieving data from a database. "
   ]
  },
  {
   "cell_type": "markdown",
   "id": "c6e143ca-a270-4b22-82d7-c05e1d7cfe70",
   "metadata": {},
   "source": [
    "The SELECT statement is used to retrieve data from one or more tables in a database. It retrieves data based on the columns specified, the table(s) from which to retrieve the data, and optional filtering and sorting criteria."
   ]
  },
  {
   "cell_type": "raw",
   "id": "befeba3b-9b37-4d26-98a2-bbce1bd12c6f",
   "metadata": {},
   "source": [
    "SELECT column1, column2, ...\n",
    "FROM table_name\n",
    "WHERE condition;"
   ]
  },
  {
   "cell_type": "markdown",
   "id": "db4c4cfe-6f24-49f6-9382-8e59de6d0436",
   "metadata": {},
   "source": [
    "Q5. Explain Primary Key and Foreign Key."
   ]
  },
  {
   "cell_type": "markdown",
   "id": "e17d1918-6d42-4033-9b0d-465b85b3cdb1",
   "metadata": {},
   "source": [
    "A primary key is a field or a set of fields in a database table that uniquely identifies each record (row) in that table. It ensure that each record in the table is distinct.\n",
    "\n",
    "A foreign key is a field or a set of fields in one table that is used to establish a link or relationship between the data in two tables. It ensures that the values in the foreign key column(s) in one table match the values in the primary key column(s) of another table. It is like a label that connects one piece of data to another."
   ]
  },
  {
   "cell_type": "markdown",
   "id": "958b6837-ce4d-4b08-9043-44aa48803726",
   "metadata": {},
   "source": [
    "Q6. Write a python code to connect MySQL to python. Explain the cursor() and execute() method."
   ]
  },
  {
   "cell_type": "raw",
   "id": "515d3aca-98a8-451d-a7e0-b52cdad5472e",
   "metadata": {},
   "source": [
    "import mysql.connector\n",
    "\n",
    "mydb = mysql.connector.connect(\n",
    "  host=\"localhost\",\n",
    "  user=\"abc\",\n",
    "  password=\"password\"\n",
    ")\n",
    "mycursor = mydb.cursor()\n",
    "\n",
    "mycursor.execute(\"select * from test1.test_table\")\n",
    "for i in mycursor.fetchall():\n",
    "    print(i)"
   ]
  },
  {
   "cell_type": "markdown",
   "id": "209b6cbf-6e32-459e-8fc0-1375f0b34d92",
   "metadata": {},
   "source": [
    "Q7. Give the order of execution of SQL clauses in an SQL query."
   ]
  },
  {
   "cell_type": "markdown",
   "id": "62967212-a438-4f1b-8948-4ae1741969e2",
   "metadata": {},
   "source": [
    "Below is the brief overview of the order of execution of SQL clauses in a query:\n",
    "\n",
    "1. **FROM Clause**: Specifies the tables and their joins.\n",
    "\n",
    "2. **WHERE Clause**: Filters rows based on conditions specified.\n",
    "\n",
    "3. **GROUP BY Clause**: Groups rows for summary calculations (if used).\n",
    "\n",
    "4. **HAVING Clause**: Filters grouped results (if used with GROUP BY).\n",
    "\n",
    "5. **SELECT Clause**: Specifies the columns and calculations for the result set.\n",
    "\n",
    "6. **ORDER BY Clause**: Sorts the result set.\n",
    "\n",
    "7. **LIMIT/OFFSET Clause**: Limits the number of rows in the result (if used).\n",
    "\n",
    "8. **Final Result**: The processed result set is returned.\n",
    "\n",
    "Note- not all queries include all clauses, the actual execution may be different as per the database system."
   ]
  },
  {
   "cell_type": "code",
   "execution_count": null,
   "id": "0268dda9-d62f-44aa-8ae5-b0465f97ceb1",
   "metadata": {},
   "outputs": [],
   "source": []
  }
 ],
 "metadata": {
  "kernelspec": {
   "display_name": "Python 3 (ipykernel)",
   "language": "python",
   "name": "python3"
  },
  "language_info": {
   "codemirror_mode": {
    "name": "ipython",
    "version": 3
   },
   "file_extension": ".py",
   "mimetype": "text/x-python",
   "name": "python",
   "nbconvert_exporter": "python",
   "pygments_lexer": "ipython3",
   "version": "3.10.8"
  }
 },
 "nbformat": 4,
 "nbformat_minor": 5
}
